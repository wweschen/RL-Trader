{
 "cells": [
  {
   "cell_type": "code",
   "execution_count": 75,
   "metadata": {},
   "outputs": [
    {
     "ename": "SyntaxError",
     "evalue": "invalid syntax (<ipython-input-75-12493b0b0723>, line 43)",
     "output_type": "error",
     "traceback": [
      "\u001b[0;36m  File \u001b[0;32m\"<ipython-input-75-12493b0b0723>\"\u001b[0;36m, line \u001b[0;32m43\u001b[0m\n\u001b[0;31m    print(mylist)\u001b[0m\n\u001b[0m        ^\u001b[0m\n\u001b[0;31mSyntaxError\u001b[0m\u001b[0;31m:\u001b[0m invalid syntax\n"
     ]
    }
   ],
   "source": [
    "import json\n",
    "\n",
    "data = json.dumps({\n",
    "    \"report\":[\n",
    "        {\n",
    "            \"enrollment\": \"rit2011001\",\n",
    "            \"name\": \"Julia\",\n",
    "            \"subject\":[\n",
    "                {\n",
    "                    \"code\": \"DSA\",\n",
    "                    \"grade\": \"A\"\n",
    "                }\n",
    "            ]\n",
    "        },\n",
    "        {\n",
    "            \"enrollment\": \"rit2011020\",\n",
    "            \"name\": \"Samantha\",\n",
    "            \"subject\":[\n",
    "                {\n",
    "                    \"code\": \"COM\",\n",
    "                    \"grade\": \"B\"\n",
    "                },\n",
    "                {\n",
    "                    \"code\": \"DSA\",\n",
    "                    \"grade\": \"A\"\n",
    "                }\n",
    "            ]\n",
    "        }\n",
    "    ]\n",
    "})\n",
    "data = sys.stdin.read()\n",
    "items = json.loads(data.strip())\n",
    "mylist=[];\n",
    "for i in range(0,len(items['report'])):\n",
    "    en=items['report'][i]['enrollment']\n",
    "    na=items['report'][i]['name']\n",
    "    for j in range(0,len(items['report'][i]['subject'])):\n",
    "        cd=items['report'][i]['subject'][j]['code']\n",
    "        gd=items['report'][i]['subject'][j]['grade']\n",
    "        if gd!=\"F\":\n",
    "            mylist.append(\"{} {} {} {}\".format(cd,gd,en,na))\n",
    "  \n",
    "print(mylist)\n",
    " \n"
   ]
  },
  {
   "cell_type": "code",
   "execution_count": 27,
   "metadata": {},
   "outputs": [
    {
     "ename": "JSONDecodeError",
     "evalue": "Expecting value: line 1 column 1 (char 0)",
     "output_type": "error",
     "traceback": [
      "\u001b[0;31m---------------------------------------------------------------------------\u001b[0m",
      "\u001b[0;31mJSONDecodeError\u001b[0m                           Traceback (most recent call last)",
      "\u001b[0;32m<ipython-input-27-c8dc369f09d1>\u001b[0m in \u001b[0;36m<module>\u001b[0;34m()\u001b[0m\n\u001b[1;32m      9\u001b[0m     \u001b[0ms\u001b[0m\u001b[0;34m.\u001b[0m\u001b[0mjoin\u001b[0m\u001b[0;34m(\u001b[0m\u001b[0mline\u001b[0m\u001b[0;34m)\u001b[0m\u001b[0;34m\u001b[0m\u001b[0m\n\u001b[1;32m     10\u001b[0m \u001b[0;34m\u001b[0m\u001b[0m\n\u001b[0;32m---> 11\u001b[0;31m \u001b[0mdecoded\u001b[0m \u001b[0;34m=\u001b[0m \u001b[0mjson\u001b[0m\u001b[0;34m.\u001b[0m\u001b[0mloads\u001b[0m\u001b[0;34m(\u001b[0m\u001b[0ms\u001b[0m\u001b[0;34m)\u001b[0m\u001b[0;34m\u001b[0m\u001b[0m\n\u001b[0m\u001b[1;32m     12\u001b[0m \u001b[0;32mfor\u001b[0m \u001b[0mi\u001b[0m \u001b[0;32min\u001b[0m \u001b[0mrange\u001b[0m\u001b[0;34m(\u001b[0m\u001b[0;36m0\u001b[0m\u001b[0;34m,\u001b[0m\u001b[0mlen\u001b[0m\u001b[0;34m(\u001b[0m\u001b[0mitem_dict\u001b[0m\u001b[0;34m[\u001b[0m\u001b[0;34m'report'\u001b[0m\u001b[0;34m]\u001b[0m\u001b[0;34m)\u001b[0m\u001b[0;34m)\u001b[0m\u001b[0;34m:\u001b[0m\u001b[0;34m\u001b[0m\u001b[0m\n\u001b[1;32m     13\u001b[0m     \u001b[0men\u001b[0m\u001b[0;34m=\u001b[0m\u001b[0mitem_dict\u001b[0m\u001b[0;34m[\u001b[0m\u001b[0;34m'report'\u001b[0m\u001b[0;34m]\u001b[0m\u001b[0;34m[\u001b[0m\u001b[0mi\u001b[0m\u001b[0;34m]\u001b[0m\u001b[0;34m[\u001b[0m\u001b[0;34m'enrollment'\u001b[0m\u001b[0;34m]\u001b[0m\u001b[0;34m\u001b[0m\u001b[0m\n",
      "\u001b[0;32m/Library/Frameworks/Python.framework/Versions/3.6/lib/python3.6/json/__init__.py\u001b[0m in \u001b[0;36mloads\u001b[0;34m(s, encoding, cls, object_hook, parse_float, parse_int, parse_constant, object_pairs_hook, **kw)\u001b[0m\n\u001b[1;32m    352\u001b[0m             \u001b[0mparse_int\u001b[0m \u001b[0;32mis\u001b[0m \u001b[0;32mNone\u001b[0m \u001b[0;32mand\u001b[0m \u001b[0mparse_float\u001b[0m \u001b[0;32mis\u001b[0m \u001b[0;32mNone\u001b[0m \u001b[0;32mand\u001b[0m\u001b[0;34m\u001b[0m\u001b[0m\n\u001b[1;32m    353\u001b[0m             parse_constant is None and object_pairs_hook is None and not kw):\n\u001b[0;32m--> 354\u001b[0;31m         \u001b[0;32mreturn\u001b[0m \u001b[0m_default_decoder\u001b[0m\u001b[0;34m.\u001b[0m\u001b[0mdecode\u001b[0m\u001b[0;34m(\u001b[0m\u001b[0ms\u001b[0m\u001b[0;34m)\u001b[0m\u001b[0;34m\u001b[0m\u001b[0m\n\u001b[0m\u001b[1;32m    355\u001b[0m     \u001b[0;32mif\u001b[0m \u001b[0mcls\u001b[0m \u001b[0;32mis\u001b[0m \u001b[0;32mNone\u001b[0m\u001b[0;34m:\u001b[0m\u001b[0;34m\u001b[0m\u001b[0m\n\u001b[1;32m    356\u001b[0m         \u001b[0mcls\u001b[0m \u001b[0;34m=\u001b[0m \u001b[0mJSONDecoder\u001b[0m\u001b[0;34m\u001b[0m\u001b[0m\n",
      "\u001b[0;32m/Library/Frameworks/Python.framework/Versions/3.6/lib/python3.6/json/decoder.py\u001b[0m in \u001b[0;36mdecode\u001b[0;34m(self, s, _w)\u001b[0m\n\u001b[1;32m    337\u001b[0m \u001b[0;34m\u001b[0m\u001b[0m\n\u001b[1;32m    338\u001b[0m         \"\"\"\n\u001b[0;32m--> 339\u001b[0;31m         \u001b[0mobj\u001b[0m\u001b[0;34m,\u001b[0m \u001b[0mend\u001b[0m \u001b[0;34m=\u001b[0m \u001b[0mself\u001b[0m\u001b[0;34m.\u001b[0m\u001b[0mraw_decode\u001b[0m\u001b[0;34m(\u001b[0m\u001b[0ms\u001b[0m\u001b[0;34m,\u001b[0m \u001b[0midx\u001b[0m\u001b[0;34m=\u001b[0m\u001b[0m_w\u001b[0m\u001b[0;34m(\u001b[0m\u001b[0ms\u001b[0m\u001b[0;34m,\u001b[0m \u001b[0;36m0\u001b[0m\u001b[0;34m)\u001b[0m\u001b[0;34m.\u001b[0m\u001b[0mend\u001b[0m\u001b[0;34m(\u001b[0m\u001b[0;34m)\u001b[0m\u001b[0;34m)\u001b[0m\u001b[0;34m\u001b[0m\u001b[0m\n\u001b[0m\u001b[1;32m    340\u001b[0m         \u001b[0mend\u001b[0m \u001b[0;34m=\u001b[0m \u001b[0m_w\u001b[0m\u001b[0;34m(\u001b[0m\u001b[0ms\u001b[0m\u001b[0;34m,\u001b[0m \u001b[0mend\u001b[0m\u001b[0;34m)\u001b[0m\u001b[0;34m.\u001b[0m\u001b[0mend\u001b[0m\u001b[0;34m(\u001b[0m\u001b[0;34m)\u001b[0m\u001b[0;34m\u001b[0m\u001b[0m\n\u001b[1;32m    341\u001b[0m         \u001b[0;32mif\u001b[0m \u001b[0mend\u001b[0m \u001b[0;34m!=\u001b[0m \u001b[0mlen\u001b[0m\u001b[0;34m(\u001b[0m\u001b[0ms\u001b[0m\u001b[0;34m)\u001b[0m\u001b[0;34m:\u001b[0m\u001b[0;34m\u001b[0m\u001b[0m\n",
      "\u001b[0;32m/Library/Frameworks/Python.framework/Versions/3.6/lib/python3.6/json/decoder.py\u001b[0m in \u001b[0;36mraw_decode\u001b[0;34m(self, s, idx)\u001b[0m\n\u001b[1;32m    355\u001b[0m             \u001b[0mobj\u001b[0m\u001b[0;34m,\u001b[0m \u001b[0mend\u001b[0m \u001b[0;34m=\u001b[0m \u001b[0mself\u001b[0m\u001b[0;34m.\u001b[0m\u001b[0mscan_once\u001b[0m\u001b[0;34m(\u001b[0m\u001b[0ms\u001b[0m\u001b[0;34m,\u001b[0m \u001b[0midx\u001b[0m\u001b[0;34m)\u001b[0m\u001b[0;34m\u001b[0m\u001b[0m\n\u001b[1;32m    356\u001b[0m         \u001b[0;32mexcept\u001b[0m \u001b[0mStopIteration\u001b[0m \u001b[0;32mas\u001b[0m \u001b[0merr\u001b[0m\u001b[0;34m:\u001b[0m\u001b[0;34m\u001b[0m\u001b[0m\n\u001b[0;32m--> 357\u001b[0;31m             \u001b[0;32mraise\u001b[0m \u001b[0mJSONDecodeError\u001b[0m\u001b[0;34m(\u001b[0m\u001b[0;34m\"Expecting value\"\u001b[0m\u001b[0;34m,\u001b[0m \u001b[0ms\u001b[0m\u001b[0;34m,\u001b[0m \u001b[0merr\u001b[0m\u001b[0;34m.\u001b[0m\u001b[0mvalue\u001b[0m\u001b[0;34m)\u001b[0m \u001b[0;32mfrom\u001b[0m \u001b[0;32mNone\u001b[0m\u001b[0;34m\u001b[0m\u001b[0m\n\u001b[0m\u001b[1;32m    358\u001b[0m         \u001b[0;32mreturn\u001b[0m \u001b[0mobj\u001b[0m\u001b[0;34m,\u001b[0m \u001b[0mend\u001b[0m\u001b[0;34m\u001b[0m\u001b[0m\n",
      "\u001b[0;31mJSONDecodeError\u001b[0m: Expecting value: line 1 column 1 (char 0)"
     ]
    }
   ],
   "source": [
    "# Enter your code here. Read input from STDIN. Print output to STDOUT\n",
    "import json\n",
    "import os, sys\n",
    "\n",
    " \n",
    "data = sys.stdin.read()\n",
    "item_dict = json.loads(data)\n",
    "\n",
    "for i in range(0,len(item_dict['report'])):\n",
    "    en=item_dict['report'][i]['enrollment']\n",
    "    na=item_dict['report'][i]['name']\n",
    "    for j in range(0,len(item_dict['report'][i]['subject'])):\n",
    "        cd=item_dict['report'][i]['subject'][j]['code']\n",
    "        gd=item_dict['report'][i]['subject'][j]['grade']\n",
    "        if gd!=\"F\":\n",
    "            print(\"{} {} {} {}\".format(cd,gd,en,na))\n",
    " \n"
   ]
  },
  {
   "cell_type": "code",
   "execution_count": 70,
   "metadata": {},
   "outputs": [
    {
     "name": "stdout",
     "output_type": "stream",
     "text": [
      "Valid\n"
     ]
    }
   ],
   "source": [
    "data=\"john123@sprng.edu.in \"\n",
    "data=data.strip()\n",
    "words = data.split(\"@\")\n",
    "\n",
    "valid=\"Valid\"\n",
    "if len(words)!=2:\n",
    "    valid=\"Invalid\"\n",
    "     \n",
    "parts2=words[1].split(\".\")\n",
    " \n",
    "parts=words[0].split(\".\") \n",
    "\n",
    "if parts[0][0].isalpha()==False:\n",
    "    valid=\"Invalid\"\n",
    "\n",
    "for p in  parts:\n",
    "    if p.isalnum()==False:\n",
    "        valid=\"Invalid\"\n",
    "        \n",
    "for p in  parts2:\n",
    "    if p.isalnum()==False:\n",
    "        valid=\"Invalid\"\n",
    "        \n",
    "if parts2[len(parts2)-1].isalpha()==False:\n",
    "    valid=\"Invalid\"\n",
    "if  len(parts2[len(parts2)-1])>3 or len(parts2[len(parts2)-1])<2 :\n",
    "    valid=\"Invalid\"\n",
    "\n",
    "print(valid)\n",
    " "
   ]
  },
  {
   "cell_type": "code",
   "execution_count": 115,
   "metadata": {},
   "outputs": [
    {
     "name": "stdout",
     "output_type": "stream",
     "text": [
      "[1, 4, 1, 2, 7, 5, 2, 1, 2, 3, 4, 5, 6, 7, 4, 5, 8, 9, 1, 2, 7, 8, 4, 6, 9, 3, 4]\n",
      "[1, 1, 1, 1, 2, 2, 2, 2, 3, 3, 4, 4, 4, 4, 4, 5, 5, 5, 6, 6, 7, 7, 7, 8, 8, 9, 9]\n"
     ]
    }
   ],
   "source": [
    "def counting_sort(a):\n",
    "    keys=  [0,1,2,3,4,5,6,7,8,9]\n",
    "    counts=[0,0,0,0,0,0,0,0,0,0]\n",
    "    output=[]\n",
    "    print(a)\n",
    "    #print(keys)\n",
    "    for i in range(0,len(a)):\n",
    "        counts[a[i]]+=1\n",
    "        output.append(0)\n",
    "    #print(counts)\n",
    "    for j in range(1,len(keys)):\n",
    "        counts[j]=counts[j-1]+counts[j]\n",
    "    #print(counts)\n",
    "    \n",
    "    for i in range(0,len(a)):\n",
    "        output[counts[keys[a[i]]]-1]=a[i]\n",
    "        counts[keys[a[i]]]-=1\n",
    "        \n",
    "    print(output)\n",
    "\n",
    "counting_sort([1,4,1,2,7,5,2,1,2,3,4,5,6,7,4,5,8,9,1,2,7,8,4,6,9,3,4])\n",
    "        \n",
    "            "
   ]
  },
  {
   "cell_type": "code",
   "execution_count": 116,
   "metadata": {},
   "outputs": [
    {
     "name": "stdout",
     "output_type": "stream",
     "text": [
      "geeksforgeeks\n",
      "Sorted character array is: eeeefggkkorss\n"
     ]
    }
   ],
   "source": [
    "# The main function that sort the given string arr[] in  \n",
    "# alphabetical order \n",
    "def countSort(arr): \n",
    "  \n",
    "    # The output character array that will have sorted arr \n",
    "    output = [0 for i in range(256)] \n",
    "  \n",
    "    # Create a count array to store count of inidividul \n",
    "    # characters and initialize count array as 0 \n",
    "    count = [0 for i in range(256)] \n",
    "  \n",
    "    # For storing the resulting answer since the  \n",
    "    # string is immutable \n",
    "    ans = [\"\" for _ in arr] \n",
    "  \n",
    "    # Store count of each character \n",
    "    for i in arr: \n",
    "        count[ord(i)] += 1\n",
    "  \n",
    "    # Change count[i] so that count[i] now contains actual \n",
    "    # position of this character in output array \n",
    "    for i in range(256): \n",
    "        count[i] += count[i-1] \n",
    "  \n",
    "    # Build the output character array \n",
    "    for i in range(len(arr)): \n",
    "        output[count[ord(arr[i])]-1] = arr[i] \n",
    "        count[ord(arr[i])] -= 1\n",
    "  \n",
    "    # Copy the output array to arr, so that arr now \n",
    "    # contains sorted characters \n",
    "    for i in range(len(arr)): \n",
    "        ans[i] = output[i] \n",
    "    return ans  \n",
    "  \n",
    "# Driver program to test above function \n",
    "arr = \"geeksforgeeks\"\n",
    "print(arr)\n",
    "ans = countSort(arr) \n",
    "print(\"Sorted character array is: {}\".format(\"\".join(ans)))"
   ]
  },
  {
   "cell_type": "code",
   "execution_count": null,
   "metadata": {},
   "outputs": [],
   "source": [
    "class Node:\n",
    "    def __init__(self, key):\n",
    "        self.key = key\n",
    "        self.left = new Node()\n",
    "        self.right = \n",
    "\n",
    "    def search(self):\n",
    "        \n",
    "    def insert(self, n):\n",
    "    \n",
    "    def delete(self, n):\n",
    "        \n",
    "    \n"
   ]
  },
  {
   "cell_type": "code",
   "execution_count": 155,
   "metadata": {},
   "outputs": [
    {
     "name": "stdout",
     "output_type": "stream",
     "text": [
      "[3, 5, 823]\n"
     ]
    }
   ],
   "source": [
    "import math\n",
    "\n",
    "def factorize(n):\n",
    "    factors=[]\n",
    "    limit = math.ceil(math.sqrt(n)) \n",
    "    for i in range(2,limit+1):\n",
    "        while n % i ==0:\n",
    "            factors.append(i)\n",
    "            n=int(n/i)\n",
    "    if n > limit: \n",
    "        factors.append(n)\n",
    "     \n",
    "    print(factors)\n",
    "    \n",
    "factorize(12345)\n"
   ]
  },
  {
   "cell_type": "code",
   "execution_count": 154,
   "metadata": {},
   "outputs": [
    {
     "name": "stdout",
     "output_type": "stream",
     "text": [
      "[3, 5, 823]\n"
     ]
    }
   ],
   "source": [
    "import math \n",
    "  \n",
    "# A function to print all prime factors of  \n",
    "# a given number n \n",
    "def primeFactors(n): \n",
    "    factors=[]\n",
    "    # Print the number of two's that divide n \n",
    "    while n % 2 == 0: \n",
    "        factors.append(2) \n",
    "        n = int(n / 2)\n",
    "          \n",
    "    # n must be odd at this point \n",
    "    # so a skip of 2 ( i = i + 2) can be used \n",
    "    for i in range(3,int(math.sqrt(n))+1,2): \n",
    "          \n",
    "        # while i divides n , print i ad divide n \n",
    "        while n % i== 0: \n",
    "            factors.append (i) \n",
    "            n = int(n / i )\n",
    "              \n",
    "    # Condition if n is a prime \n",
    "    # number greater than 2 \n",
    "    if n > 2: \n",
    "        factors.append (n )\n",
    "    print(factors)\n",
    "    \n",
    "primeFactors(12345)"
   ]
  },
  {
   "cell_type": "code",
   "execution_count": 161,
   "metadata": {},
   "outputs": [
    {
     "name": "stdout",
     "output_type": "stream",
     "text": [
      "12 150\n",
      "6 12\n",
      "0 6\n"
     ]
    },
    {
     "data": {
      "text/plain": [
       "6"
      ]
     },
     "execution_count": 161,
     "metadata": {},
     "output_type": "execute_result"
    }
   ],
   "source": [
    "def gcd(a, b): \n",
    "    print(a,b)\n",
    "    if a == 0 : \n",
    "        return b  \n",
    "    \n",
    "    return gcd(b%a, a) \n",
    "\n",
    "gcd(12,150)"
   ]
  },
  {
   "cell_type": "code",
   "execution_count": 171,
   "metadata": {},
   "outputs": [
    {
     "name": "stdout",
     "output_type": "stream",
     "text": [
      "-1.0 1\n",
      "-0.5 1\n",
      "0.33333333333333337 1\n",
      "10 0 0\n"
     ]
    }
   ],
   "source": [
    "def gcdExtended(a, b, x, y): \n",
    "    # Base Case \n",
    "    if a == 0 :  \n",
    "        x = 0\n",
    "        y = 1\n",
    "        return b \n",
    "          \n",
    "    x1 = 1\n",
    "    y1 = 1 # To store results of recursive call \n",
    "    gcd = gcdExtended(b%a, a, x1, y1) \n",
    "  \n",
    "    # Update x and y using results of recursive \n",
    "    # call \n",
    "    x = y1 - (b/a) * x1 \n",
    "    y = x1 \n",
    "    print(x,y)\n",
    "    return gcd \n",
    "x=0\n",
    "y=0\n",
    "gcd=gcdExtended(30,20,x,y)\n",
    "print (gcd,x,y)\n",
    "\n"
   ]
  }
 ],
 "metadata": {
  "kernelspec": {
   "display_name": "Python 3",
   "language": "python",
   "name": "python3"
  },
  "language_info": {
   "codemirror_mode": {
    "name": "ipython",
    "version": 3
   },
   "file_extension": ".py",
   "mimetype": "text/x-python",
   "name": "python",
   "nbconvert_exporter": "python",
   "pygments_lexer": "ipython3",
   "version": "3.6.4"
  }
 },
 "nbformat": 4,
 "nbformat_minor": 2
}
